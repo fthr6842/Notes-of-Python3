{
 "cells": [
  {
   "cell_type": "code",
   "execution_count": 1,
   "id": "1d64e235",
   "metadata": {},
   "outputs": [],
   "source": [
    "import cupy as cp"
   ]
  },
  {
   "cell_type": "code",
   "execution_count": 2,
   "id": "68d8d2fb",
   "metadata": {},
   "outputs": [],
   "source": [
    "data = [1, 2, 3, 4, 5]"
   ]
  },
  {
   "cell_type": "code",
   "execution_count": 4,
   "id": "a22ef9f7",
   "metadata": {},
   "outputs": [
    {
     "data": {
      "text/plain": [
       "array([1, 2, 3, 4, 5])"
      ]
     },
     "execution_count": 4,
     "metadata": {},
     "output_type": "execute_result"
    }
   ],
   "source": [
    "cp.array(data)"
   ]
  },
  {
   "cell_type": "markdown",
   "id": "c5782dff",
   "metadata": {},
   "source": [
    "#### 元素全為0的矩陣"
   ]
  },
  {
   "cell_type": "code",
   "execution_count": 6,
   "id": "118e8260",
   "metadata": {},
   "outputs": [
    {
     "data": {
      "text/plain": [
       "array([0., 0., 0.])"
      ]
     },
     "execution_count": 6,
     "metadata": {},
     "output_type": "execute_result"
    }
   ],
   "source": [
    "cp.zeros(3)"
   ]
  },
  {
   "cell_type": "markdown",
   "id": "6c41fcc6",
   "metadata": {},
   "source": [
    "#### 元素全為1的矩陣"
   ]
  },
  {
   "cell_type": "code",
   "execution_count": 7,
   "id": "d5a2657d",
   "metadata": {},
   "outputs": [
    {
     "data": {
      "text/plain": [
       "array([1., 1., 1.])"
      ]
     },
     "execution_count": 7,
     "metadata": {},
     "output_type": "execute_result"
    }
   ],
   "source": [
    "cp.ones(3)"
   ]
  },
  {
   "cell_type": "markdown",
   "id": "3db187a6",
   "metadata": {},
   "source": [
    "#### 在 [0, 1) 範圍內均勻分佈的隨機數"
   ]
  },
  {
   "cell_type": "code",
   "execution_count": 8,
   "id": "54ec5d12",
   "metadata": {},
   "outputs": [
    {
     "data": {
      "text/plain": [
       "array([[0.91249194, 0.64095525],\n",
       "       [0.34076416, 0.91113129]])"
      ]
     },
     "execution_count": 8,
     "metadata": {},
     "output_type": "execute_result"
    }
   ],
   "source": [
    "cp.random.rand(2, 2)"
   ]
  },
  {
   "cell_type": "markdown",
   "id": "b6a6689a",
   "metadata": {},
   "source": [
    "#### 服從標準正態分佈 (均值為 0，標準差為 1) 的隨機數。"
   ]
  },
  {
   "cell_type": "code",
   "execution_count": 9,
   "id": "2832607e",
   "metadata": {},
   "outputs": [
    {
     "data": {
      "text/plain": [
       "array([[-3.41077867, -2.411171  ],\n",
       "       [-0.30869584, -1.20866971]])"
      ]
     },
     "execution_count": 9,
     "metadata": {},
     "output_type": "execute_result"
    }
   ],
   "source": [
    "cp.random.randn(2, 2)"
   ]
  },
  {
   "cell_type": "markdown",
   "id": "cc2281d7",
   "metadata": {},
   "source": [
    "#### exponential function"
   ]
  },
  {
   "cell_type": "code",
   "execution_count": 17,
   "id": "d50d9849",
   "metadata": {},
   "outputs": [
    {
     "data": {
      "text/plain": [
       "array(2.71828183)"
      ]
     },
     "execution_count": 17,
     "metadata": {},
     "output_type": "execute_result"
    }
   ],
   "source": [
    "cp.exp(1)"
   ]
  },
  {
   "cell_type": "markdown",
   "id": "ba98d3b3",
   "metadata": {},
   "source": [
    "#### log function"
   ]
  },
  {
   "cell_type": "code",
   "execution_count": 11,
   "id": "f771f2b3",
   "metadata": {},
   "outputs": [
    {
     "data": {
      "text/plain": [
       "array(0.)"
      ]
     },
     "execution_count": 11,
     "metadata": {},
     "output_type": "execute_result"
    }
   ],
   "source": [
    "cp.log(1)"
   ]
  },
  {
   "cell_type": "markdown",
   "id": "a844747e",
   "metadata": {},
   "source": [
    "#### trigonometric functions"
   ]
  },
  {
   "cell_type": "code",
   "execution_count": 14,
   "id": "e74fc01e",
   "metadata": {},
   "outputs": [
    {
     "data": {
      "text/plain": [
       "array(0.54030231)"
      ]
     },
     "execution_count": 14,
     "metadata": {},
     "output_type": "execute_result"
    }
   ],
   "source": [
    "cp.sin(1)"
   ]
  },
  {
   "cell_type": "code",
   "execution_count": 15,
   "id": "3c79cea2",
   "metadata": {},
   "outputs": [
    {
     "data": {
      "text/plain": [
       "array(0.54030231)"
      ]
     },
     "execution_count": 15,
     "metadata": {},
     "output_type": "execute_result"
    }
   ],
   "source": [
    "cp.cos(1)"
   ]
  },
  {
   "cell_type": "code",
   "execution_count": 16,
   "id": "be088407",
   "metadata": {},
   "outputs": [
    {
     "data": {
      "text/plain": [
       "array(1.55740772)"
      ]
     },
     "execution_count": 16,
     "metadata": {},
     "output_type": "execute_result"
    }
   ],
   "source": [
    "cp.tan(1)"
   ]
  },
  {
   "cell_type": "markdown",
   "id": "8700e73a",
   "metadata": {},
   "source": [
    "#### 內積"
   ]
  },
  {
   "cell_type": "code",
   "execution_count": null,
   "id": "507aa91e",
   "metadata": {},
   "outputs": [],
   "source": [
    "#cp.dot()"
   ]
  },
  {
   "cell_type": "code",
   "execution_count": null,
   "id": "bc41f46e",
   "metadata": {},
   "outputs": [],
   "source": [
    "#cp.inner()"
   ]
  },
  {
   "cell_type": "markdown",
   "id": "fcd7edb9",
   "metadata": {},
   "source": [
    "#### transpose (轉置)"
   ]
  },
  {
   "cell_type": "code",
   "execution_count": null,
   "id": "dd5a772c",
   "metadata": {},
   "outputs": [],
   "source": [
    "cp.transpose()"
   ]
  },
  {
   "cell_type": "markdown",
   "id": "d91c104e",
   "metadata": {},
   "source": [
    "#### 矩陣相加"
   ]
  },
  {
   "cell_type": "code",
   "execution_count": null,
   "id": "0c261875",
   "metadata": {},
   "outputs": [],
   "source": [
    "cp.add()"
   ]
  },
  {
   "cell_type": "markdown",
   "id": "b858395f",
   "metadata": {},
   "source": [
    "#### 矩陣相乘"
   ]
  },
  {
   "cell_type": "code",
   "execution_count": null,
   "id": "f973621f",
   "metadata": {},
   "outputs": [],
   "source": [
    "cp.matmul()"
   ]
  },
  {
   "cell_type": "markdown",
   "id": "c2ed367e",
   "metadata": {},
   "source": [
    "#### 求反矩陣"
   ]
  },
  {
   "cell_type": "code",
   "execution_count": null,
   "id": "09aaa8bd",
   "metadata": {},
   "outputs": [],
   "source": [
    "cp.linalg.inv()"
   ]
  },
  {
   "cell_type": "markdown",
   "id": "42507bb0",
   "metadata": {},
   "source": [
    "#### eigen value 求特徵值"
   ]
  },
  {
   "cell_type": "code",
   "execution_count": null,
   "id": "9d63b5b5",
   "metadata": {},
   "outputs": [],
   "source": [
    "cp.linalg.eig()"
   ]
  },
  {
   "cell_type": "code",
   "execution_count": null,
   "id": "8239db82",
   "metadata": {},
   "outputs": [],
   "source": []
  },
  {
   "cell_type": "code",
   "execution_count": null,
   "id": "ab31aecf",
   "metadata": {},
   "outputs": [],
   "source": [
    "cp.linalg.cholesky()"
   ]
  },
  {
   "cell_type": "markdown",
   "id": "20f1f774",
   "metadata": {},
   "source": [
    "#### 傅立葉轉換"
   ]
  },
  {
   "cell_type": "code",
   "execution_count": null,
   "id": "0fd05b09",
   "metadata": {},
   "outputs": [],
   "source": [
    "cp.fft.fft()"
   ]
  },
  {
   "cell_type": "code",
   "execution_count": null,
   "id": "95cac6c7",
   "metadata": {},
   "outputs": [],
   "source": []
  },
  {
   "cell_type": "code",
   "execution_count": null,
   "id": "e5176d91",
   "metadata": {},
   "outputs": [],
   "source": []
  },
  {
   "cell_type": "code",
   "execution_count": null,
   "id": "76549032",
   "metadata": {},
   "outputs": [],
   "source": []
  }
 ],
 "metadata": {
  "kernelspec": {
   "display_name": "Python 3 (ipykernel)",
   "language": "python",
   "name": "python3"
  },
  "language_info": {
   "codemirror_mode": {
    "name": "ipython",
    "version": 3
   },
   "file_extension": ".py",
   "mimetype": "text/x-python",
   "name": "python",
   "nbconvert_exporter": "python",
   "pygments_lexer": "ipython3",
   "version": "3.11.4"
  }
 },
 "nbformat": 4,
 "nbformat_minor": 5
}
