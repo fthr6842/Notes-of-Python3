{
 "cells": [
  {
   "cell_type": "markdown",
   "id": "acd2e5fa-9589-45ee-825f-5dcac3e9b165",
   "metadata": {},
   "source": [
    "### 基本架構"
   ]
  },
  {
   "cell_type": "code",
   "execution_count": 37,
   "id": "529d44ed-3080-4ef9-9da2-2d49cc277dd1",
   "metadata": {},
   "outputs": [],
   "source": [
    "class name():\n",
    "    value = 1 #屬性\n",
    "    __value = 2 #私有屬性\n",
    "    \n",
    "    def __init__(self, name0, name1): #初始化函數: 建立物件時就必須輸入\n",
    "        self.name = name0\n",
    "        self.__name = name1\n",
    "    def function_1(self, n0):\n",
    "        return n0**2\n",
    "    \n",
    "    def function_2(self, n0, name):\n",
    "        print(self.function_1(n0)) #呼叫其他方法\n",
    "        self.name = name #變更init中的屬性\n",
    "    \n",
    "    def __function_3(self, n0): #私有方法\n",
    "        return n0*2\n",
    "    @classmethod #變更self中的屬性\n",
    "    def Vf(cls, num1):\n",
    "        cls.value = num\n",
    "        return cls.value\n",
    "\n",
    "    @staticmethod #無法用於變更參數\n",
    "    def Vf():\n",
    "        return 0\n",
    "\n",
    "    "
   ]
  },
  {
   "cell_type": "markdown",
   "id": "f81b3db7-f41e-4f85-8e65-e33e1cd7ac7c",
   "metadata": {},
   "source": [
    "### Example"
   ]
  },
  {
   "cell_type": "code",
   "execution_count": 38,
   "id": "fab2ce25-e9c4-4e01-bc85-2b66a8afd828",
   "metadata": {},
   "outputs": [
    {
     "name": "stdout",
     "output_type": "stream",
     "text": [
      "9\n",
      "may\n",
      "1\n",
      "1\n"
     ]
    }
   ],
   "source": [
    "test = name(\"Peter\", \"Jason\")\n",
    "test.function_2(3, \"may\") #9\n",
    "print(test.name) #may\n",
    "#test.__function_3(4) #'name' object has no attribute '__function_3'\n",
    "print(test.Vf())"
   ]
  },
  {
   "cell_type": "markdown",
   "id": "fe78ddf3-327f-4344-b4f8-8ecb81db75d9",
   "metadata": {},
   "source": [
    "### 回傳class的方法"
   ]
  },
  {
   "cell_type": "code",
   "execution_count": 39,
   "id": "f6883cb6-8960-4b32-831d-71e744979c53",
   "metadata": {},
   "outputs": [
    {
     "data": {
      "text/plain": [
       "['Vf',\n",
       " '__class__',\n",
       " '__delattr__',\n",
       " '__dict__',\n",
       " '__dir__',\n",
       " '__doc__',\n",
       " '__eq__',\n",
       " '__format__',\n",
       " '__ge__',\n",
       " '__getattribute__',\n",
       " '__getstate__',\n",
       " '__gt__',\n",
       " '__hash__',\n",
       " '__init__',\n",
       " '__init_subclass__',\n",
       " '__le__',\n",
       " '__lt__',\n",
       " '__module__',\n",
       " '__ne__',\n",
       " '__new__',\n",
       " '__reduce__',\n",
       " '__reduce_ex__',\n",
       " '__repr__',\n",
       " '__setattr__',\n",
       " '__sizeof__',\n",
       " '__str__',\n",
       " '__subclasshook__',\n",
       " '__weakref__',\n",
       " '_name__function_3',\n",
       " '_name__value',\n",
       " 'function_1',\n",
       " 'function_2',\n",
       " 'value']"
      ]
     },
     "execution_count": 39,
     "metadata": {},
     "output_type": "execute_result"
    }
   ],
   "source": [
    "dir(name)"
   ]
  },
  {
   "cell_type": "markdown",
   "id": "54a7bb33-1e54-4392-af25-3f482de3aa0a",
   "metadata": {},
   "source": [
    "### 回傳屬性值"
   ]
  },
  {
   "cell_type": "code",
   "execution_count": 41,
   "id": "2edd07ce-10fa-4eaf-84eb-e011b4875d53",
   "metadata": {},
   "outputs": [
    {
     "data": {
      "text/plain": [
       "1"
      ]
     },
     "execution_count": 41,
     "metadata": {},
     "output_type": "execute_result"
    }
   ],
   "source": [
    "test.value"
   ]
  },
  {
   "cell_type": "markdown",
   "id": "2ee2dfdf-d6cb-4843-92c1-4ca76f4a106b",
   "metadata": {},
   "source": [
    "### 回傳私有屬性值"
   ]
  },
  {
   "cell_type": "code",
   "execution_count": 42,
   "id": "0a4a091c-a021-476d-a1bb-5748bdafde32",
   "metadata": {},
   "outputs": [
    {
     "data": {
      "text/plain": [
       "2"
      ]
     },
     "execution_count": 42,
     "metadata": {},
     "output_type": "execute_result"
    }
   ],
   "source": [
    "test._name__value"
   ]
  },
  {
   "cell_type": "markdown",
   "id": "8e80665c-04f2-4eef-b6f6-5de590460977",
   "metadata": {},
   "source": [
    "### 回傳註解"
   ]
  },
  {
   "cell_type": "code",
   "execution_count": 44,
   "id": "98e08f61-e466-489c-819b-f97aef7a4397",
   "metadata": {},
   "outputs": [],
   "source": [
    "name.__doc__"
   ]
  },
  {
   "cell_type": "markdown",
   "id": "940690d6-3f9f-45f1-bcd8-9275f7f9a791",
   "metadata": {},
   "source": [
    "### 回傳name"
   ]
  },
  {
   "cell_type": "code",
   "execution_count": 45,
   "id": "3c28486c-dbb3-4e14-9a2e-070f252edc8e",
   "metadata": {},
   "outputs": [
    {
     "data": {
      "text/plain": [
       "'name'"
      ]
     },
     "execution_count": 45,
     "metadata": {},
     "output_type": "execute_result"
    }
   ],
   "source": [
    "name.__name__"
   ]
  },
  {
   "cell_type": "markdown",
   "id": "0dbfd66d-e087-4aed-9aa0-bbb942853438",
   "metadata": {},
   "source": [
    "### 回傳易讀取的字串"
   ]
  },
  {
   "cell_type": "code",
   "execution_count": 47,
   "id": "66dff943-9f80-4210-88d1-fba379a32053",
   "metadata": {},
   "outputs": [
    {
     "data": {
      "text/plain": [
       "<slot wrapper '__str__' of 'object' objects>"
      ]
     },
     "execution_count": 47,
     "metadata": {},
     "output_type": "execute_result"
    }
   ],
   "source": [
    "name.__str__"
   ]
  },
  {
   "cell_type": "markdown",
   "id": "2730180c-4027-475b-af9b-f0289e88fcc0",
   "metadata": {},
   "source": [
    "### 回傳self中的變數"
   ]
  },
  {
   "cell_type": "code",
   "execution_count": 48,
   "id": "2d86f898-509c-4fe0-8564-de93948eec5e",
   "metadata": {},
   "outputs": [
    {
     "data": {
      "text/plain": [
       "mappingproxy({'__module__': '__main__',\n",
       "              'value': 1,\n",
       "              '_name__value': 2,\n",
       "              '__init__': <function __main__.name.__init__(self, name0, name1)>,\n",
       "              'function_1': <function __main__.name.function_1(self, n0)>,\n",
       "              'function_2': <function __main__.name.function_2(self, n0, name)>,\n",
       "              '_name__function_3': <function __main__.name.__function_3(self, n0)>,\n",
       "              'Vf': <classmethod(<function name.Vf at 0x000001D3323E1B20>)>,\n",
       "              '__dict__': <attribute '__dict__' of 'name' objects>,\n",
       "              '__weakref__': <attribute '__weakref__' of 'name' objects>,\n",
       "              '__doc__': None})"
      ]
     },
     "execution_count": 48,
     "metadata": {},
     "output_type": "execute_result"
    }
   ],
   "source": [
    "name.__dict__"
   ]
  },
  {
   "cell_type": "markdown",
   "id": "ec424cab-84bb-4d9e-9dd3-e92445ae464b",
   "metadata": {},
   "source": [
    "### 回傳所屬狀態和變數所屬class"
   ]
  },
  {
   "cell_type": "code",
   "execution_count": 49,
   "id": "69bcbd78-337d-41d0-9685-539a0fd20386",
   "metadata": {},
   "outputs": [
    {
     "data": {
      "text/plain": [
       "__main__.name"
      ]
     },
     "execution_count": 49,
     "metadata": {},
     "output_type": "execute_result"
    }
   ],
   "source": [
    "test.__class__"
   ]
  },
  {
   "cell_type": "markdown",
   "id": "376c783c-f690-4a39-a9c3-252be5632391",
   "metadata": {},
   "source": [
    "### 單繼承"
   ]
  },
  {
   "cell_type": "code",
   "execution_count": 50,
   "id": "3c12f699-9082-4979-a83f-21380bc448c2",
   "metadata": {},
   "outputs": [],
   "source": [
    "class name2(name):\n",
    "    def function_1(self, n0):\n",
    "        return n0**3"
   ]
  },
  {
   "cell_type": "code",
   "execution_count": 51,
   "id": "e5c24e74-1b0b-4c00-9998-87042ba1de8e",
   "metadata": {},
   "outputs": [
    {
     "name": "stdout",
     "output_type": "stream",
     "text": [
      "8\n"
     ]
    }
   ],
   "source": [
    "test2 = name2(\"Joseph\", \"Liz\")\n",
    "print(test2.function_1(2))"
   ]
  },
  {
   "cell_type": "markdown",
   "id": "11ea5aff-e459-4e8e-8c79-c5dd1f2da00c",
   "metadata": {},
   "source": [
    "### super()函數"
   ]
  },
  {
   "cell_type": "code",
   "execution_count": 64,
   "id": "ba19680b-94b5-40e3-8b3e-1de9dac7f6ab",
   "metadata": {},
   "outputs": [],
   "source": [
    "class name3(name):\n",
    "    def __init__(self, name0, name1):\n",
    "        super().__init__(name0, name1)"
   ]
  },
  {
   "cell_type": "markdown",
   "id": "220f07b7-58ee-4378-b02c-6b1837a43f59",
   "metadata": {},
   "source": [
    "### 多重繼承"
   ]
  },
  {
   "cell_type": "code",
   "execution_count": 65,
   "id": "672a4289-7501-45f6-88e2-1a5bccc31402",
   "metadata": {},
   "outputs": [],
   "source": [
    "test3 = name3(\"Haze\", \"amy\")"
   ]
  },
  {
   "cell_type": "code",
   "execution_count": null,
   "id": "dbfa93ef-ea16-48ba-9a63-a6e9e01aba6f",
   "metadata": {},
   "outputs": [],
   "source": []
  }
 ],
 "metadata": {
  "kernelspec": {
   "display_name": "Python 3 (ipykernel)",
   "language": "python",
   "name": "python3"
  },
  "language_info": {
   "codemirror_mode": {
    "name": "ipython",
    "version": 3
   },
   "file_extension": ".py",
   "mimetype": "text/x-python",
   "name": "python",
   "nbconvert_exporter": "python",
   "pygments_lexer": "ipython3",
   "version": "3.11.9"
  }
 },
 "nbformat": 4,
 "nbformat_minor": 5
}
