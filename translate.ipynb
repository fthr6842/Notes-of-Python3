{
 "cells": [
  {
   "cell_type": "code",
   "execution_count": 2,
   "id": "8129d851",
   "metadata": {},
   "outputs": [],
   "source": [
    "from translate import Translator"
   ]
  },
  {
   "cell_type": "code",
   "execution_count": 3,
   "id": "8e7a5882",
   "metadata": {},
   "outputs": [],
   "source": [
    "lang = Translator(from_lang=\"chinese\", to_lang=\"english\")"
   ]
  },
  {
   "cell_type": "markdown",
   "id": "d75d7403",
   "metadata": {},
   "source": [
    "#### 欲翻譯的內容"
   ]
  },
  {
   "cell_type": "code",
   "execution_count": 5,
   "id": "a979d039",
   "metadata": {},
   "outputs": [
    {
     "data": {
      "text/plain": [
       "'Hello world'"
      ]
     },
     "execution_count": 5,
     "metadata": {},
     "output_type": "execute_result"
    }
   ],
   "source": [
    "text = lang.translate(\"你好，世界!\")\n",
    "text"
   ]
  }
 ],
 "metadata": {
  "kernelspec": {
   "display_name": "Python 3 (ipykernel)",
   "language": "python",
   "name": "python3"
  },
  "language_info": {
   "codemirror_mode": {
    "name": "ipython",
    "version": 3
   },
   "file_extension": ".py",
   "mimetype": "text/x-python",
   "name": "python",
   "nbconvert_exporter": "python",
   "pygments_lexer": "ipython3",
   "version": "3.11.4"
  }
 },
 "nbformat": 4,
 "nbformat_minor": 5
}
