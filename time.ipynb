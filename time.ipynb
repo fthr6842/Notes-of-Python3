{
 "cells": [
  {
   "cell_type": "code",
   "execution_count": 1,
   "id": "b10f863b",
   "metadata": {},
   "outputs": [],
   "source": [
    "import time"
   ]
  },
  {
   "cell_type": "code",
   "execution_count": 10,
   "id": "9b4f0af1",
   "metadata": {},
   "outputs": [
    {
     "data": {
      "text/plain": [
       "1711846131.4805162"
      ]
     },
     "execution_count": 10,
     "metadata": {},
     "output_type": "execute_result"
    }
   ],
   "source": [
    "t = time.time()\n",
    "t"
   ]
  },
  {
   "cell_type": "markdown",
   "id": "f71c5c64",
   "metadata": {},
   "source": [
    "自1970/1/1至今的總秒數"
   ]
  },
  {
   "cell_type": "code",
   "execution_count": 5,
   "id": "2792c89c",
   "metadata": {},
   "outputs": [
    {
     "data": {
      "text/plain": [
       "'Sun Mar 31 08:45:24 2024'"
      ]
     },
     "execution_count": 5,
     "metadata": {},
     "output_type": "execute_result"
    }
   ],
   "source": [
    "t1 = time.ctime(t)\n",
    "t1"
   ]
  },
  {
   "cell_type": "markdown",
   "id": "658ef0b4",
   "metadata": {},
   "source": [
    "將秒數轉換成當地時間"
   ]
  },
  {
   "cell_type": "code",
   "execution_count": 7,
   "id": "581442ce",
   "metadata": {},
   "outputs": [
    {
     "data": {
      "text/plain": [
       "'Sun Mar 31 08:46:51 2024'"
      ]
     },
     "execution_count": 7,
     "metadata": {},
     "output_type": "execute_result"
    }
   ],
   "source": [
    "t1 = time.ctime()\n",
    "t1"
   ]
  },
  {
   "cell_type": "markdown",
   "id": "4f753e1d",
   "metadata": {},
   "source": [
    "直接顯示當地時間"
   ]
  },
  {
   "cell_type": "code",
   "execution_count": 8,
   "id": "93f2d60c",
   "metadata": {},
   "outputs": [],
   "source": [
    "time.sleep(3)"
   ]
  },
  {
   "cell_type": "markdown",
   "id": "8b25fa9a",
   "metadata": {},
   "source": [
    "程式停止秒數(n)"
   ]
  },
  {
   "cell_type": "code",
   "execution_count": 11,
   "id": "b22d0410",
   "metadata": {},
   "outputs": [
    {
     "data": {
      "text/plain": [
       "time.struct_time(tm_year=2024, tm_mon=3, tm_mday=31, tm_hour=8, tm_min=48, tm_sec=51, tm_wday=6, tm_yday=91, tm_isdst=0)"
      ]
     },
     "execution_count": 11,
     "metadata": {},
     "output_type": "execute_result"
    }
   ],
   "source": [
    "time.localtime(t)"
   ]
  },
  {
   "cell_type": "markdown",
   "id": "ff252e5e",
   "metadata": {},
   "source": [
    "將秒數轉換成struct_time格式\n",
    "(time.struct_time(tm_year=(年), tm_mon=(月), tm_mday=(日), tm_hour=(小時), tm_min=(分鐘), tm_sec=(秒), \n",
    "tm_wday=(0~6), tm_yday=(0~365 or 366), tm_isdst=(0 or 1)))"
   ]
  },
  {
   "cell_type": "markdown",
   "id": "4de40ced",
   "metadata": {},
   "source": [
    "tm_wday--該週第幾天(0~6), tm_yday--該年第幾天, tm_isdst--該時區是否有日光節約時間"
   ]
  },
  {
   "cell_type": "code",
   "execution_count": 12,
   "id": "d6df01d9",
   "metadata": {},
   "outputs": [
    {
     "data": {
      "text/plain": [
       "time.struct_time(tm_year=2024, tm_mon=3, tm_mday=31, tm_hour=8, tm_min=50, tm_sec=3, tm_wday=6, tm_yday=91, tm_isdst=0)"
      ]
     },
     "execution_count": 12,
     "metadata": {},
     "output_type": "execute_result"
    }
   ],
   "source": [
    "time.localtime()"
   ]
  },
  {
   "cell_type": "code",
   "execution_count": 13,
   "id": "6989e12a",
   "metadata": {},
   "outputs": [
    {
     "data": {
      "text/plain": [
       "time.struct_time(tm_year=2024, tm_mon=3, tm_mday=31, tm_hour=0, tm_min=48, tm_sec=51, tm_wday=6, tm_yday=91, tm_isdst=0)"
      ]
     },
     "execution_count": 13,
     "metadata": {},
     "output_type": "execute_result"
    }
   ],
   "source": [
    "time.gmtime(t)"
   ]
  },
  {
   "cell_type": "markdown",
   "id": "8636e727",
   "metadata": {},
   "source": [
    "將秒數轉成UTC時間"
   ]
  },
  {
   "cell_type": "code",
   "execution_count": 14,
   "id": "91224784",
   "metadata": {},
   "outputs": [
    {
     "data": {
      "text/plain": [
       "1711846256.0"
      ]
     },
     "execution_count": 14,
     "metadata": {},
     "output_type": "execute_result"
    }
   ],
   "source": [
    "time.mktime(time.localtime())"
   ]
  },
  {
   "cell_type": "markdown",
   "id": "f7aa7991",
   "metadata": {},
   "source": [
    "與time.localtime()互為反函數，可將 struct_time格式的時間轉為秒數(time.time())"
   ]
  },
  {
   "cell_type": "code",
   "execution_count": 15,
   "id": "66c5c29c",
   "metadata": {},
   "outputs": [
    {
     "data": {
      "text/plain": [
       "'Sun Mar 31 08:52:21 2024'"
      ]
     },
     "execution_count": 15,
     "metadata": {},
     "output_type": "execute_result"
    }
   ],
   "source": [
    "time.asctime(time.localtime())"
   ]
  },
  {
   "cell_type": "markdown",
   "id": "e8baaaab",
   "metadata": {},
   "source": [
    "將struct_time格式的時間轉為文字"
   ]
  },
  {
   "cell_type": "code",
   "execution_count": null,
   "id": "5e21987f",
   "metadata": {},
   "outputs": [],
   "source": [
    "time.strftime()"
   ]
  },
  {
   "cell_type": "markdown",
   "id": "419fc6a4",
   "metadata": {},
   "source": [
    "可以依照指定的格式將 struct_time 時間資料轉換為文字輸出"
   ]
  },
  {
   "cell_type": "code",
   "execution_count": null,
   "id": "9b1f1d67",
   "metadata": {},
   "outputs": [],
   "source": [
    "time.perf_counter()"
   ]
  }
 ],
 "metadata": {
  "kernelspec": {
   "display_name": "Python 3 (ipykernel)",
   "language": "python",
   "name": "python3"
  },
  "language_info": {
   "codemirror_mode": {
    "name": "ipython",
    "version": 3
   },
   "file_extension": ".py",
   "mimetype": "text/x-python",
   "name": "python",
   "nbconvert_exporter": "python",
   "pygments_lexer": "ipython3",
   "version": "3.11.4"
  }
 },
 "nbformat": 4,
 "nbformat_minor": 5
}
