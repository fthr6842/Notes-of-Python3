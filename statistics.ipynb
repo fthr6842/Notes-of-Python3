{
 "cells": [
  {
   "cell_type": "code",
   "execution_count": 1,
   "id": "2893c63e",
   "metadata": {},
   "outputs": [],
   "source": [
    "import statistics"
   ]
  },
  {
   "cell_type": "code",
   "execution_count": 3,
   "id": "2c3606e5",
   "metadata": {},
   "outputs": [],
   "source": [
    "data = [90, 86, 56, 77, 63]"
   ]
  },
  {
   "cell_type": "markdown",
   "id": "6f5a0021",
   "metadata": {},
   "source": [
    "### 平均值"
   ]
  },
  {
   "cell_type": "code",
   "execution_count": 4,
   "id": "e45ca668",
   "metadata": {},
   "outputs": [
    {
     "data": {
      "text/plain": [
       "74.4"
      ]
     },
     "execution_count": 4,
     "metadata": {},
     "output_type": "execute_result"
    }
   ],
   "source": [
    "statistics.mean(data)"
   ]
  },
  {
   "cell_type": "markdown",
   "id": "dd0c8c3f",
   "metadata": {},
   "source": [
    "#### The type of data should be list or tuple."
   ]
  },
  {
   "cell_type": "markdown",
   "id": "1f22fd01",
   "metadata": {},
   "source": [
    "### 中位數"
   ]
  },
  {
   "cell_type": "code",
   "execution_count": 5,
   "id": "879f85e7",
   "metadata": {},
   "outputs": [
    {
     "data": {
      "text/plain": [
       "77"
      ]
     },
     "execution_count": 5,
     "metadata": {},
     "output_type": "execute_result"
    }
   ],
   "source": [
    "statistics.median(data)"
   ]
  },
  {
   "cell_type": "markdown",
   "id": "a3287456",
   "metadata": {},
   "source": [
    "#### statistics.median_low(V)--回傳較小中位數\n",
    "#### statistics.median_high(V)--回傳較大中位數"
   ]
  },
  {
   "cell_type": "code",
   "execution_count": null,
   "id": "c8dca6d5",
   "metadata": {},
   "outputs": [],
   "source": [
    "幾何平均值"
   ]
  },
  {
   "cell_type": "code",
   "execution_count": 6,
   "id": "9f65e1c7",
   "metadata": {},
   "outputs": [
    {
     "data": {
      "text/plain": [
       "73.20690602440767"
      ]
     },
     "execution_count": 6,
     "metadata": {},
     "output_type": "execute_result"
    }
   ],
   "source": [
    "statistics.geometric_mean(data)"
   ]
  }
 ],
 "metadata": {
  "kernelspec": {
   "display_name": "Python 3 (ipykernel)",
   "language": "python",
   "name": "python3"
  },
  "language_info": {
   "codemirror_mode": {
    "name": "ipython",
    "version": 3
   },
   "file_extension": ".py",
   "mimetype": "text/x-python",
   "name": "python",
   "nbconvert_exporter": "python",
   "pygments_lexer": "ipython3",
   "version": "3.11.4"
  }
 },
 "nbformat": 4,
 "nbformat_minor": 5
}
