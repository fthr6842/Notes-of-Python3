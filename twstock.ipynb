{
 "cells": [
  {
   "cell_type": "code",
   "execution_count": null,
   "id": "0279cc83",
   "metadata": {},
   "outputs": [],
   "source": [
    "#TWSTOCK\n",
    "--引入套件\n",
    "V=twstock.Stock('E')--建立sock物件。E為股票代碼\n",
    "    sid--股票代號字串\n",
    "    open--近31天的開盤價(list)\n",
    "    high--近31天的最高價(list)\n",
    "    low--近31天的最低價(list)\n",
    "    close--近31天的收盤價(list)\n",
    "    price\n",
    "    capacity--近31天的成交量(list)\n",
    "    transaction--近31天的成交筆數(list)\n",
    "    turnover--近31天的成交金額\n",
    "    change--近31天的漲跌幅\n",
    "    date--近31天的交易日期datetime物件(list)\n",
    "    data--近31天stock物件全部資料(list)\n",
    "    raw_data--近31天的原始資料(list)\n",
    "    fetch_31()--近31天的交易資料(Data物件)(list)\n",
    "    fetch( (year), (month))--指定年月的交易資料(Data物件)(list)\n",
    "    fetch_from( (year), (month))--指定年月至今的交易資料(Data物件)(list)\n",
    "    moving_average( (data), (days))--數據data每days日的滾動平均\n",
    "    continuous( (data) )--串列data持續上漲天數\n",
    "twstock.realtime.mock--檢驗資料真假(True為使用假資料, False為使用真實資料)\n",
    "V=twstock.realtime.get('E')--取得指定股票的即時資料('E' or ['E1', 'E2'])"
   ]
  },
  {
   "cell_type": "code",
   "execution_count": 2,
   "id": "d2e4772d",
   "metadata": {},
   "outputs": [],
   "source": [
    "import twstock"
   ]
  },
  {
   "cell_type": "markdown",
   "id": "1f7ed8e2",
   "metadata": {},
   "source": [
    "建立sock物件"
   ]
  },
  {
   "cell_type": "code",
   "execution_count": 8,
   "id": "08746f5d",
   "metadata": {},
   "outputs": [
    {
     "data": {
      "text/plain": [
       "<twstock.stock.Stock at 0x214f5715b10>"
      ]
     },
     "execution_count": 8,
     "metadata": {},
     "output_type": "execute_result"
    }
   ],
   "source": [
    "data = twstock.Stock(\"2330\")"
   ]
  },
  {
   "cell_type": "markdown",
   "id": "bb393323",
   "metadata": {},
   "source": [
    "#### sid--股票代號字串\n",
    "#### open--近31天的開盤價(list)\n",
    "#### high--近31天的最高價(list)\n",
    "#### low--近31天的最低價(list)\n",
    "#### close--近31天的收盤價(list)\n",
    "#### price\n",
    "#### capacity--近31天的成交量(list)\n",
    "#### transaction--近31天的成交筆數(list)\n",
    "#### turnover--近31天的成交金額\n",
    "#### change--近31天的漲跌幅\n",
    "#### date--近31天的交易日期datetime物件(list)\n",
    "#### data--近31天stock物件全部資料(list)\n",
    "#### raw_data--近31天的原始資料(list)\n",
    "#### fetch_31()--近31天的交易資料(Data物件)(list)\n",
    "#### fetch( (year), (month))--指定年月的交易資料(Data物件)(list)\n",
    "#### fetch_from( (year), (month))--指定年月至今的交易資料(Data物件)(list)\n",
    "#### moving_average( (data), (days))--數據data每days日的滾動平均\n",
    "#### continuous( (data) )--串列data持續上漲天數"
   ]
  },
  {
   "cell_type": "markdown",
   "id": "6c7725d3",
   "metadata": {},
   "source": [
    "### 取得指定股票的即時資料"
   ]
  },
  {
   "cell_type": "code",
   "execution_count": 6,
   "id": "a240aebf",
   "metadata": {},
   "outputs": [
    {
     "data": {
      "text/plain": [
       "{'timestamp': 1711849805.0,\n",
       " 'info': {'code': '2330',\n",
       "  'channel': '2330.tw',\n",
       "  'name': '台積電',\n",
       "  'fullname': '台灣積體電路製造股份有限公司',\n",
       "  'time': '2024-03-31 09:50:05'},\n",
       " 'realtime': {'latest_trade_price': '-',\n",
       "  'trade_volume': '-',\n",
       "  'accumulate_trade_volume': '4101',\n",
       "  'best_bid_price': ['0.0000', '856.0000', '779.0000', '777.0000', '776.0000'],\n",
       "  'best_bid_volume': ['113', '300', '158', '100', '100'],\n",
       "  'best_ask_price': ['-'],\n",
       "  'best_ask_volume': ['-'],\n",
       "  'open': '800.0000',\n",
       "  'high': '800.0000',\n",
       "  'low': '775.0000'},\n",
       " 'success': True}"
      ]
     },
     "execution_count": 6,
     "metadata": {},
     "output_type": "execute_result"
    }
   ],
   "source": [
    "real_data = twstock.realtime.get(\"2330\")\n",
    "real_data"
   ]
  },
  {
   "cell_type": "markdown",
   "id": "4eea1e22",
   "metadata": {},
   "source": [
    "### 檢驗資料真假(True為使用假資料, False為使用真實資料)"
   ]
  },
  {
   "cell_type": "code",
   "execution_count": 7,
   "id": "c3f9ed43",
   "metadata": {},
   "outputs": [
    {
     "data": {
      "text/plain": [
       "False"
      ]
     },
     "execution_count": 7,
     "metadata": {},
     "output_type": "execute_result"
    }
   ],
   "source": [
    "twstock.realtime.mock"
   ]
  }
 ],
 "metadata": {
  "kernelspec": {
   "display_name": "Python 3 (ipykernel)",
   "language": "python",
   "name": "python3"
  },
  "language_info": {
   "codemirror_mode": {
    "name": "ipython",
    "version": 3
   },
   "file_extension": ".py",
   "mimetype": "text/x-python",
   "name": "python",
   "nbconvert_exporter": "python",
   "pygments_lexer": "ipython3",
   "version": "3.11.4"
  }
 },
 "nbformat": 4,
 "nbformat_minor": 5
}
